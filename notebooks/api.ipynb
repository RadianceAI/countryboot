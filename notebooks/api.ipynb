{
 "cells": [
  {
   "cell_type": "code",
   "execution_count": 3,
   "id": "42feb88c-35f2-4b10-9dbb-13f1aa8a2a0b",
   "metadata": {
    "tags": []
   },
   "outputs": [
    {
     "data": {
      "text/plain": [
       "True"
      ]
     },
     "execution_count": 3,
     "metadata": {},
     "output_type": "execute_result"
    }
   ],
   "source": [
    "from dotenv import load_dotenv\n",
    "load_dotenv()"
   ]
  },
  {
   "cell_type": "code",
   "execution_count": 56,
   "id": "6dbc195c-068b-4bfb-ac6f-bea4f5b25cef",
   "metadata": {
    "tags": []
   },
   "outputs": [],
   "source": [
    "import os\n",
    "from datetime import date\n",
    "\n",
    "from github import Github\n",
    "from tqdm import tqdm\n",
    "import pandas as pd"
   ]
  },
  {
   "cell_type": "code",
   "execution_count": 5,
   "id": "3d425337-9eee-4bfa-b68a-a397a6d135c3",
   "metadata": {
    "tags": []
   },
   "outputs": [],
   "source": [
    "g = Github(os.environ['GITHUB_TOKEN'], timeout=45)"
   ]
  },
  {
   "cell_type": "code",
   "execution_count": 59,
   "id": "557c6866-17ec-455a-821c-5be5e13d6034",
   "metadata": {
    "tags": []
   },
   "outputs": [
    {
     "name": "stderr",
     "output_type": "stream",
     "text": [
      "  0%|                                                    | 0/38 [00:00<?, ?it/s]\n",
      "  0%|                                                   | 0/397 [00:01<?, ?it/s]\u001b[A\n",
      "  0%|                                                    | 0/38 [00:02<?, ?it/s]"
     ]
    },
    {
     "name": "stdout",
     "output_type": "stream",
     "text": [
      "CPU times: user 63.6 ms, sys: 7.65 ms, total: 71.3 ms\n",
      "Wall time: 3.02 s\n"
     ]
    },
    {
     "name": "stderr",
     "output_type": "stream",
     "text": [
      "\n"
     ]
    }
   ],
   "source": [
    "%%time\n",
    "data = []\n",
    "repos = g.search_repositories('stars:>=100000')\n",
    "for repo in tqdm(repos, total=repos.totalCount):\n",
    "    try:\n",
    "        repo_info = {}\n",
    "        repo_info['id'] = repo.id\n",
    "        repo_info['url'] = repo.url\n",
    "        repo_info['name'] = repo.name\n",
    "        repo_info['owner'] = repo.owner.login\n",
    "        repo_info['stars'] = repo.stargazers_count\n",
    "        repo_info['commits'] = []\n",
    "        contributors = repo.get_contributors()\n",
    "        for contributor in tqdm(contributors, total=contributors.totalCount):\n",
    "            repo_info['commits'].append({\n",
    "                'author_id': contributor.id,\n",
    "                'author_url': contributor.url,\n",
    "                'author_location': contributor.location,\n",
    "                'total_commits': repo.get_commits(author=contributor).totalCount\n",
    "            })\n",
    "            break\n",
    "        data.append(repo_info)\n",
    "        break\n",
    "    except Exception as e:\n",
    "        print(e)"
   ]
  },
  {
   "cell_type": "code",
   "execution_count": 60,
   "id": "5af2b9ca-b1d0-4ce9-935e-756e7824f5bd",
   "metadata": {
    "tags": []
   },
   "outputs": [],
   "source": [
    "df = pd.json_normalize(data, record_path='commits', meta=['id', 'url', 'name', 'owner', 'stars'], record_prefix='commit_')"
   ]
  },
  {
   "cell_type": "code",
   "execution_count": 61,
   "id": "36f677af-edc3-4bb6-800f-80e159e104e0",
   "metadata": {
    "tags": []
   },
   "outputs": [],
   "source": [
    "df.to_csv(f'../data/conributors_{date.today()}.csv', index=False)"
   ]
  },
  {
   "cell_type": "code",
   "execution_count": null,
   "id": "f2ae1578-902d-4946-b9c4-c7028ce387f7",
   "metadata": {},
   "outputs": [],
   "source": []
  }
 ],
 "metadata": {
  "kernelspec": {
   "display_name": "Python 3 (ipykernel)",
   "language": "python",
   "name": "python3"
  },
  "language_info": {
   "codemirror_mode": {
    "name": "ipython",
    "version": 3
   },
   "file_extension": ".py",
   "mimetype": "text/x-python",
   "name": "python",
   "nbconvert_exporter": "python",
   "pygments_lexer": "ipython3",
   "version": "3.11.2"
  }
 },
 "nbformat": 4,
 "nbformat_minor": 5
}
